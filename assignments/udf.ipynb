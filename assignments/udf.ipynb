{
 "cells": [
  {
   "cell_type": "code",
   "execution_count": 1,
   "id": "9254abbe-7ab6-48f6-81a0-7ffda541b9f2",
   "metadata": {},
   "outputs": [],
   "source": [
    "from pyspark.sql import SparkSession\n",
    "\n",
    "spark = SparkSession.builder.master('local').appName('udf').getOrCreate()"
   ]
  },
  {
   "cell_type": "code",
   "execution_count": 2,
   "id": "75ab9ac8-fa19-4335-b937-fb81e3a0b03e",
   "metadata": {},
   "outputs": [],
   "source": [
    "ages = [('장유찬', 63),('유태영', 61),('김보석',78), \n",
    "       ('이현우', 38), ('정윤수', 40), ('윤창연', 23),\n",
    "      ('조인태',26), ('김채경',28), ('김주향', 31), ('김달현',22)]"
   ]
  },
  {
   "cell_type": "code",
   "execution_count": 3,
   "id": "9b0c76b9-4805-44be-8552-c8bd7e2f4a3b",
   "metadata": {},
   "outputs": [],
   "source": [
    "schema = ['name', 'age']"
   ]
  },
  {
   "cell_type": "code",
   "execution_count": 5,
   "id": "7f43a600-d92c-4d95-9a30-6152625c2cb0",
   "metadata": {},
   "outputs": [],
   "source": [
    "df = spark.createDataFrame(ages, schema)"
   ]
  },
  {
   "cell_type": "code",
   "execution_count": 6,
   "id": "e5d2b1a5-a00b-4d41-a5ae-33ab2da6a7c4",
   "metadata": {},
   "outputs": [
    {
     "name": "stdout",
     "output_type": "stream",
     "text": [
      "+------+---+\n",
      "|  name|age|\n",
      "+------+---+\n",
      "|장유찬| 63|\n",
      "|유태영| 61|\n",
      "|김보석| 78|\n",
      "|이현우| 38|\n",
      "|정윤수| 40|\n",
      "|윤창연| 23|\n",
      "|조인태| 26|\n",
      "|김채경| 28|\n",
      "|김주향| 31|\n",
      "|김달현| 22|\n",
      "+------+---+\n",
      "\n"
     ]
    }
   ],
   "source": [
    "df.show()"
   ]
  },
  {
   "cell_type": "code",
   "execution_count": 7,
   "id": "acdac852-f5b8-4eda-85db-3349e76062d6",
   "metadata": {},
   "outputs": [
    {
     "name": "stdout",
     "output_type": "stream",
     "text": [
      "root\n",
      " |-- name: string (nullable = true)\n",
      " |-- age: long (nullable = true)\n",
      "\n"
     ]
    }
   ],
   "source": [
    "df.printSchema()"
   ]
  },
  {
   "cell_type": "code",
   "execution_count": 8,
   "id": "deffb26c-f996-46c4-9693-ddfadded3960",
   "metadata": {},
   "outputs": [],
   "source": [
    "df.createOrReplaceTempView('ages')"
   ]
  },
  {
   "cell_type": "code",
   "execution_count": 9,
   "id": "0afc04ae-e66c-4337-aeb3-c9294154f96a",
   "metadata": {},
   "outputs": [],
   "source": [
    "def age_category(age):\n",
    "    if age<35 :\n",
    "        return 'young'\n",
    "    elif age<=59 :\n",
    "        return 'adult'\n",
    "    else :\n",
    "        return 'senior'"
   ]
  },
  {
   "cell_type": "code",
   "execution_count": 10,
   "id": "c605846e-586b-4a87-8c92-99c55b33d7f3",
   "metadata": {},
   "outputs": [
    {
     "data": {
      "text/plain": [
       "<function __main__.age_category(age)>"
      ]
     },
     "execution_count": 10,
     "metadata": {},
     "output_type": "execute_result"
    }
   ],
   "source": [
    "spark.udf.register('age_category', age_category)"
   ]
  },
  {
   "cell_type": "code",
   "execution_count": 11,
   "id": "1a6034b2-5889-402f-bf6f-73c813edbb51",
   "metadata": {},
   "outputs": [
    {
     "name": "stdout",
     "output_type": "stream",
     "text": [
      "+------+------------+\n",
      "|  name|age_category|\n",
      "+------+------------+\n",
      "|장유찬|      senior|\n",
      "|유태영|      senior|\n",
      "|김보석|      senior|\n",
      "|이현우|       adult|\n",
      "|정윤수|       adult|\n",
      "|윤창연|       young|\n",
      "|조인태|       young|\n",
      "|김채경|       young|\n",
      "|김주향|       young|\n",
      "|김달현|       young|\n",
      "+------+------------+\n",
      "\n"
     ]
    }
   ],
   "source": [
    "spark.sql(\n",
    "    \"SELECT name, \\\n",
    "    age_category(age) AS age_category \\\n",
    "    FROM ages\").show()"
   ]
  },
  {
   "cell_type": "code",
   "execution_count": null,
   "id": "e6b4348c-a38b-4b4e-9d25-5b551052d915",
   "metadata": {},
   "outputs": [],
   "source": []
  }
 ],
 "metadata": {
  "kernelspec": {
   "display_name": "Python 3 (ipykernel)",
   "language": "python",
   "name": "python3"
  },
  "language_info": {
   "codemirror_mode": {
    "name": "ipython",
    "version": 3
   },
   "file_extension": ".py",
   "mimetype": "text/x-python",
   "name": "python",
   "nbconvert_exporter": "python",
   "pygments_lexer": "ipython3",
   "version": "3.9.13"
  }
 },
 "nbformat": 4,
 "nbformat_minor": 5
}
